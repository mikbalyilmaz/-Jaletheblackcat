{
 "cells": [
  {
   "cell_type": "code",
   "execution_count": 26,
   "id": "be5d1796-aa85-48c1-a042-dc79644677b3",
   "metadata": {},
   "outputs": [
    {
     "name": "stdout",
     "output_type": "stream",
     "text": [
      "Requirement already satisfied: moviepy in /Library/Frameworks/Python.framework/Versions/3.13/lib/python3.13/site-packages (1.0.3)\n",
      "Requirement already satisfied: decorator<5.0,>=4.0.2 in /Library/Frameworks/Python.framework/Versions/3.13/lib/python3.13/site-packages (from moviepy) (4.4.2)\n",
      "Requirement already satisfied: imageio<3.0,>=2.5 in /Library/Frameworks/Python.framework/Versions/3.13/lib/python3.13/site-packages (from moviepy) (2.37.0)\n",
      "Requirement already satisfied: imageio_ffmpeg>=0.2.0 in /Library/Frameworks/Python.framework/Versions/3.13/lib/python3.13/site-packages (from moviepy) (0.6.0)\n",
      "Requirement already satisfied: tqdm<5.0,>=4.11.2 in /Library/Frameworks/Python.framework/Versions/3.13/lib/python3.13/site-packages (from moviepy) (4.67.1)\n",
      "Requirement already satisfied: numpy>=1.17.3 in /Library/Frameworks/Python.framework/Versions/3.13/lib/python3.13/site-packages (from moviepy) (2.3.2)\n",
      "Requirement already satisfied: requests<3.0,>=2.8.1 in /Library/Frameworks/Python.framework/Versions/3.13/lib/python3.13/site-packages (from moviepy) (2.32.4)\n",
      "Requirement already satisfied: proglog<=1.0.0 in /Library/Frameworks/Python.framework/Versions/3.13/lib/python3.13/site-packages (from moviepy) (0.1.12)\n",
      "Requirement already satisfied: pillow>=8.3.2 in /Library/Frameworks/Python.framework/Versions/3.13/lib/python3.13/site-packages (from imageio<3.0,>=2.5->moviepy) (11.3.0)\n",
      "Requirement already satisfied: charset_normalizer<4,>=2 in /Library/Frameworks/Python.framework/Versions/3.13/lib/python3.13/site-packages (from requests<3.0,>=2.8.1->moviepy) (3.4.3)\n",
      "Requirement already satisfied: idna<4,>=2.5 in /Library/Frameworks/Python.framework/Versions/3.13/lib/python3.13/site-packages (from requests<3.0,>=2.8.1->moviepy) (3.10)\n",
      "Requirement already satisfied: urllib3<3,>=1.21.1 in /Library/Frameworks/Python.framework/Versions/3.13/lib/python3.13/site-packages (from requests<3.0,>=2.8.1->moviepy) (2.5.0)\n",
      "Requirement already satisfied: certifi>=2017.4.17 in /Library/Frameworks/Python.framework/Versions/3.13/lib/python3.13/site-packages (from requests<3.0,>=2.8.1->moviepy) (2025.8.3)\n",
      "Execution time: 0.46 seconds\n"
     ]
    }
   ],
   "source": [
    "import time\n",
    "start_time = time.time()\n",
    "!python3 -m pip install moviepy\n",
    "end_time = time.time()\n",
    "print(f\"Execution time: {end_time - start_time:.2f} seconds\")"
   ]
  },
  {
   "cell_type": "code",
   "execution_count": 30,
   "id": "b3e0d1c9-6fe8-4fde-b656-e91ea86d2d2f",
   "metadata": {},
   "outputs": [
    {
     "name": "stdout",
     "output_type": "stream",
     "text": [
      "Moviepy - Building video jale1_grand_final.mp4.\n",
      "MoviePy - Writing audio in jale1_grand_finalTEMP_MPY_wvf_snd.mp4\n"
     ]
    },
    {
     "name": "stderr",
     "output_type": "stream",
     "text": [
      "                                                                                "
     ]
    },
    {
     "name": "stdout",
     "output_type": "stream",
     "text": [
      "MoviePy - Done.\n",
      "Moviepy - Writing video jale1_grand_final.mp4\n",
      "\n"
     ]
    },
    {
     "name": "stderr",
     "output_type": "stream",
     "text": [
      "                                                                                "
     ]
    },
    {
     "name": "stdout",
     "output_type": "stream",
     "text": [
      "Moviepy - Done !\n",
      "Moviepy - video ready jale1_grand_final.mp4\n",
      "Execution time: 6.49 seconds\n"
     ]
    },
    {
     "name": "stderr",
     "output_type": "stream",
     "text": []
    }
   ],
   "source": [
    "start_time = time.time()\n",
    "from moviepy.editor import (\n",
    "    VideoFileClip, AudioFileClip, CompositeAudioClip,\n",
    "    concatenate_audioclips, TextClip, CompositeVideoClip, afx, concatenate_videoclips\n",
    ")\n",
    "import os\n",
    "\n",
    "# -------------------------\n",
    "# Load main video\n",
    "# -------------------------\n",
    "video = VideoFileClip(\"jale1.mp4\")\n",
    "\n",
    "# -------------------------\n",
    "# VOICE 1: sound1.m4a → starts at 5s, repeated 3 times\n",
    "# -------------------------\n",
    "voice1 = AudioFileClip(\"sound1.m4a\")\n",
    "voice1_repeated = concatenate_audioclips([voice1, voice1, voice1]) \\\n",
    "    .fx(afx.audio_fadein, 1.0).fx(afx.audio_fadeout, 1.0).volumex(0.5).set_start(5)\n",
    "\n",
    "# -------------------------\n",
    "# VOICE 2: sound2.m4a → plays at 7s and 9s\n",
    "# -------------------------\n",
    "voice2 = AudioFileClip(\"sound2.m4a\")\n",
    "voice2_instances = [\n",
    "    voice2.set_start(t).fx(afx.audio_fadein, 0.7).fx(afx.audio_fadeout, 0.7).volumex(0.6)\n",
    "    for t in [7, 9]\n",
    "]\n",
    "\n",
    "# -------------------------\n",
    "# VOICE 3: sound3.m4a → starts at 16s\n",
    "# -------------------------\n",
    "voice3 = (\n",
    "    AudioFileClip(\"sound3.m4a\")\n",
    "    .set_start(16)\n",
    "    .fx(afx.audio_fadein, 1.0)\n",
    "    .fx(afx.audio_fadeout, 1.0)\n",
    "    .volumex(0.6)\n",
    ")\n",
    "\n",
    "# -------------------------\n",
    "# BACKGROUND MUSIC: music1.mp3\n",
    "# Note: Music info is written in the video itself to avoid copyright claim.\n",
    "# -------------------------\n",
    "music_path = \"music1.mp3\"\n",
    "if not os.path.exists(music_path):\n",
    "    raise FileNotFoundError(f\"Music file not found: {music_path}\")\n",
    "\n",
    "music = AudioFileClip(music_path).volumex(0.2).set_duration(video.duration)\n",
    "\n",
    "# -------------------------\n",
    "# Merge all audio layers\n",
    "# -------------------------\n",
    "audio_clips = [voice1_repeated] + voice2_instances + [voice3, music]\n",
    "final_audio = CompositeAudioClip(([video.audio] if video.audio else []) + audio_clips)\n",
    "video = video.set_audio(final_audio)\n",
    "\n",
    "# -------------------------\n",
    "# Permanent bottom text (credits)\n",
    "# -------------------------\n",
    "bottom_text = TextClip(\n",
    "    \"made by. mikbalyilmaz | jale ve iç sesi (Music: Lil Tjay & NLE Choppa - Why)\",\n",
    "    fontsize=20,\n",
    "    color=\"white\",\n",
    "    font=\"Arial-Bold\",\n",
    "    method=\"caption\"\n",
    ").set_duration(video.duration).set_position((\"left\", \"bottom\")).margin(left=15, bottom=15)\n",
    "\n",
    "# -------------------------\n",
    "# Center intro texts (fade in/out with cinematic effect)\n",
    "# -------------------------\n",
    "intro_texts = [\n",
    "    (\"Jale's Story (Jale'nin Öyküsü)\", 0),\n",
    "    (\"It's just beginning (Daha Yeni Başlıyor)\", 4),\n",
    "    (\"Keep just following!\", 8),\n",
    "    (\"It will be spectacular\", 12),\n",
    "    (\"@mikbalyilmaz\", 16),\n",
    "    (\"@jaletheblackcat\", 20),\n",
    "]\n",
    "\n",
    "intro_clips = [\n",
    "    TextClip(txt, fontsize=42, color=\"white\", font=\"Arial-Bold\")\n",
    "    .set_duration(3)\n",
    "    .set_position(\"center\")\n",
    "    .set_start(t)\n",
    "    .crossfadein(1.5)\n",
    "    .crossfadeout(1.5)\n",
    "    for txt, t in intro_texts\n",
    "]\n",
    "\n",
    "# -------------------------\n",
    "# Combine video + texts\n",
    "# -------------------------\n",
    "final_20s = CompositeVideoClip([video, bottom_text] + intro_clips)\n",
    "\n",
    "# -------------------------\n",
    "# Take 3 different 20s segments → total 60s\n",
    "# -------------------------\n",
    "part1 = final_20s.subclip(0, 20)\n",
    "part2 = final_20s.subclip(5, 25)\n",
    "part3 = final_20s.subclip(10, 30)\n",
    "\n",
    "final_60s = concatenate_videoclips([part1, part2, part3])\n",
    "\n",
    "# -------------------------\n",
    "# Cut the final video at 37s (no black screens)\n",
    "# -------------------------\n",
    "final_cut = final_60s.subclip(0, 37)\n",
    "\n",
    "# -------------------------\n",
    "# Export\n",
    "# -------------------------\n",
    "final_cut.write_videofile(\n",
    "    \"jale1_grand_final.mp4\",\n",
    "    codec=\"libx264\",\n",
    "    audio_codec=\"aac\"\n",
    ")\n",
    "end_time = time.time()\n",
    "print(f\"Execution time: {end_time - start_time:.2f} seconds\")"
   ]
  }
 ],
 "metadata": {
  "kernelspec": {
   "display_name": "Python 3 (ipykernel)",
   "language": "python",
   "name": "python3"
  },
  "language_info": {
   "codemirror_mode": {
    "name": "ipython",
    "version": 3
   },
   "file_extension": ".py",
   "mimetype": "text/x-python",
   "name": "python",
   "nbconvert_exporter": "python",
   "pygments_lexer": "ipython3",
   "version": "3.13.6"
  }
 },
 "nbformat": 4,
 "nbformat_minor": 5
}
